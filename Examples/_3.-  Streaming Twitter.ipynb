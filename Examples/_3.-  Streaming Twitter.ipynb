{
 "cells": [
  {
   "cell_type": "code",
   "execution_count": 1,
   "metadata": {
    "collapsed": false
   },
   "outputs": [],
   "source": [
    "import time\n",
    "import twitter\n",
    "from pyspark import SparkContext\n",
    "from pyspark.streaming import StreamingContext\n",
    "\n",
    "import dateutil.parser\n",
    "import json\n",
    "\n",
    "class Tweet(dict):\n",
    "    def __init__(self, tweet_in):\n",
    "        super(Tweet, self).__init__(self)\n",
    "        if tweet_in and 'delete' not in tweet_in:\n",
    "            self['timestamp'] = dateutil.parser.parse(tweet_in[u'created_at']\n",
    "                                ).replace(tzinfo=None).isoformat()\n",
    "            self['text'] = tweet_in['text'].encode('utf-8')\n",
    "            self['hashtags'] = [x['text'].encode('utf-8') for x in tweet_in['entities']['hashtags']]\n",
    "            self['geo'] = tweet_in['geo']['coordinates'] if tweet_in['geo'] else None\n",
    "            self['id'] = tweet_in['id']\n",
    "            self['screen_name'] = tweet_in['user']['screen_name'].encode('utf-8')\n",
    "            self['user_id'] = tweet_in['user']['id'] \n",
    "        \n",
    "def connect_twitter():\n",
    "    twitter_stream =  twitter.TwitterStream(auth=twitter.OAuth(token = \"107968834-rWAKtQNiTiGDRRC5W7Iy3JDgag6SH5rbpvJoxYQP\",token_secret = \"BXBt4mG9LUJoWKPiua8rBoSD7XM2PMEc9byDygK4bXwS0\",consumer_key = \"wKC0XeeDsF2Nq6r443dsIrTE7\",consumer_secret = \"r1GcpLLTtbEqRcZE0x8W7MD0vucfklk6nPxEec7hIpIdoO3F3j\"))\n",
    "    return twitter_stream\n",
    "\n",
    "def get_next_tweet(twitter_stream):\n",
    "    stream = twitter_stream.statuses.sample(block=True)\n",
    "    tweet_in = None\n",
    "    while not tweet_in or 'delete' in tweet_in:\n",
    "        tweet_in = stream.next()\n",
    "        tweet_parsed = Tweet(tweet_in)\n",
    "        if not \"delete\" in tweet_in:\n",
    "            print \"-- \" , tweet_parsed['screen_name'], \" # \" , tweet_parsed['timestamp'], \" # \" , tweet_parsed['text']\n",
    "        # print(json.dumps(tweet_in, indent=2, sort_keys=True))\n",
    "    # return json.dumps(tweet_in, indent=2, sort_keys=True)\n",
    "    return json.dumps(tweet_parsed)\n",
    "\n",
    "def process_rdd_queue(twitter_stream):\n",
    "    rddQueue = []\n",
    "    for i in range(5):\n",
    "        rddQueue += [ssc.sparkContext.parallelize([get_next_tweet(twitter_stream)], 5)]\n",
    "\n",
    "    lines = ssc.queueStream(rddQueue)\n",
    "    lines.saveAsTextFiles(\"out_files/files_\")\n",
    "    lines.pprint()\n",
    "    "
   ]
  },
  {
   "cell_type": "code",
   "execution_count": 2,
   "metadata": {
    "collapsed": false
   },
   "outputs": [],
   "source": [
    "twitter_stream = connect_twitter()"
   ]
  },
  {
   "cell_type": "code",
   "execution_count": 3,
   "metadata": {
    "collapsed": false
   },
   "outputs": [
    {
     "name": "stdout",
     "output_type": "stream",
     "text": [
      "--  natsumikisa7016  #  2016-04-13T11:01:17  #  仕事で近くに行ってたんだけど\n",
      "すごかった！！！！👓の壁！ https://t.co/ZpSEqqZ2Hy\n",
      "--  holvoeteline  #  2016-04-13T11:01:19  #  RT @EmmelieVanhool: Ik mis men mooiste sterretje hierboven 😔😇❤️\n",
      "--  sultan_ssdd  #  2016-04-13T11:01:20  #  RT @AliKerrouche: إذا أردت التوقف عن القلق والبدء بالحياة .. عدد نعمك وليس متاعبك..#قروب_غيم_للدعم\n",
      "--  AmazingInfoTech  #  2016-04-13T11:01:21  #  RT @cloudera: Video Demo: Getting Started with Hive-on-Spark https://t.co/VaDB6kV4fC\n",
      "--  bukkket_  #  2016-04-13T11:01:22  #  RT @garez_ank: #VeBenimYalanım ÖLMÜS  OLAN DEDEM BİRDAHA  ÖLDÜ BUGÜN İŞE GELEMEYECEM\n",
      "-------------------------------------------\n",
      "Time: 2016-04-13 13:01:23\n",
      "-------------------------------------------\n",
      "{\"user_id\": 217079960, \"screen_name\": \"natsumikisa7016\", \"timestamp\": \"2016-04-13T11:01:17\", \"hashtags\": [], \"text\": \"\\u4ed5\\u4e8b\\u3067\\u8fd1\\u304f\\u306b\\u884c\\u3063\\u3066\\u305f\\u3093\\u3060\\u3051\\u3069\\n\\u3059\\u3054\\u304b\\u3063\\u305f\\uff01\\uff01\\uff01\\uff01\\ud83d\\udc53\\u306e\\u58c1\\uff01 https://t.co/ZpSEqqZ2Hy\", \"geo\": null, \"id\": 720205210715459584}\n",
      "\n",
      "-------------------------------------------\n",
      "Time: 2016-04-13 13:01:24\n",
      "-------------------------------------------\n",
      "{\"user_id\": 4504597529, \"screen_name\": \"holvoeteline\", \"timestamp\": \"2016-04-13T11:01:19\", \"hashtags\": [], \"text\": \"RT @EmmelieVanhool: Ik mis men mooiste sterretje hierboven \\ud83d\\ude14\\ud83d\\ude07\\u2764\\ufe0f\", \"geo\": null, \"id\": 720205219141955584}\n",
      "\n",
      "-------------------------------------------\n",
      "Time: 2016-04-13 13:01:25\n",
      "-------------------------------------------\n",
      "{\"user_id\": 4074317475, \"screen_name\": \"sultan_ssdd\", \"timestamp\": \"2016-04-13T11:01:20\", \"hashtags\": [\"\\u0642\\u0631\\u0648\\u0628_\\u063a\\u064a\\u0645_\\u0644\\u0644\\u062f\\u0639\\u0645\"], \"text\": \"RT @AliKerrouche: \\u0625\\u0630\\u0627 \\u0623\\u0631\\u062f\\u062a \\u0627\\u0644\\u062a\\u0648\\u0642\\u0641 \\u0639\\u0646 \\u0627\\u0644\\u0642\\u0644\\u0642 \\u0648\\u0627\\u0644\\u0628\\u062f\\u0621 \\u0628\\u0627\\u0644\\u062d\\u064a\\u0627\\u0629 .. \\u0639\\u062f\\u062f \\u0646\\u0639\\u0645\\u0643 \\u0648\\u0644\\u064a\\u0633 \\u0645\\u062a\\u0627\\u0639\\u0628\\u0643..#\\u0642\\u0631\\u0648\\u0628_\\u063a\\u064a\\u0645_\\u0644\\u0644\\u062f\\u0639\\u0645\", \"geo\": null, \"id\": 720205223319441408}\n",
      "\n",
      "-------------------------------------------\n",
      "Time: 2016-04-13 13:01:26\n",
      "-------------------------------------------\n",
      "{\"user_id\": 2763518095, \"screen_name\": \"AmazingInfoTech\", \"timestamp\": \"2016-04-13T11:01:21\", \"hashtags\": [], \"text\": \"RT @cloudera: Video Demo: Getting Started with Hive-on-Spark https://t.co/VaDB6kV4fC\", \"geo\": null, \"id\": 720205227505422336}\n",
      "\n",
      "-------------------------------------------\n",
      "Time: 2016-04-13 13:01:27\n",
      "-------------------------------------------\n",
      "{\"user_id\": 399478811, \"screen_name\": \"bukkket_\", \"timestamp\": \"2016-04-13T11:01:22\", \"hashtags\": [\"VeBenimYalan\\u0131m\"], \"text\": \"RT @garez_ank: #VeBenimYalan\\u0131m \\u00d6LM\\u00dcS  OLAN DEDEM B\\u0130RDAHA  \\u00d6LD\\u00dc BUG\\u00dcN \\u0130\\u015eE GELEMEYECEM\", \"geo\": null, \"id\": 720205231691313152}\n",
      "\n",
      "-------------------------------------------\n",
      "Time: 2016-04-13 13:01:28\n",
      "-------------------------------------------\n",
      "\n",
      "-------------------------------------------\n",
      "Time: 2016-04-13 13:01:29\n",
      "-------------------------------------------\n",
      "\n"
     ]
    },
    {
     "ename": "KeyboardInterrupt",
     "evalue": "",
     "output_type": "error",
     "traceback": [
      "\u001b[1;31m---------------------------------------------------------------------------\u001b[0m",
      "\u001b[1;31mKeyboardInterrupt\u001b[0m                         Traceback (most recent call last)",
      "\u001b[1;32m<ipython-input-3-f03c9caed65e>\u001b[0m in \u001b[0;36m<module>\u001b[1;34m()\u001b[0m\n\u001b[0;32m      4\u001b[0m \u001b[0mtime\u001b[0m\u001b[1;33m.\u001b[0m\u001b[0msleep\u001b[0m\u001b[1;33m(\u001b[0m\u001b[1;36m4\u001b[0m\u001b[1;33m)\u001b[0m\u001b[1;33m\u001b[0m\u001b[0m\n\u001b[0;32m      5\u001b[0m \u001b[0mssc\u001b[0m\u001b[1;33m.\u001b[0m\u001b[0mstop\u001b[0m\u001b[1;33m(\u001b[0m\u001b[0mstopSparkContext\u001b[0m\u001b[1;33m=\u001b[0m\u001b[0mFalse\u001b[0m\u001b[1;33m,\u001b[0m \u001b[0mstopGraceFully\u001b[0m\u001b[1;33m=\u001b[0m\u001b[0mTrue\u001b[0m\u001b[1;33m)\u001b[0m\u001b[1;33m\u001b[0m\u001b[0m\n\u001b[1;32m----> 6\u001b[1;33m \u001b[0mtime\u001b[0m\u001b[1;33m.\u001b[0m\u001b[0msleep\u001b[0m\u001b[1;33m(\u001b[0m\u001b[1;36m100\u001b[0m\u001b[1;33m)\u001b[0m\u001b[1;33m\u001b[0m\u001b[0m\n\u001b[0m\u001b[0;32m      7\u001b[0m \u001b[0mssc\u001b[0m \u001b[1;33m=\u001b[0m \u001b[0mStreamingContext\u001b[0m\u001b[1;33m(\u001b[0m\u001b[0msc\u001b[0m\u001b[1;33m,\u001b[0m \u001b[1;36m1\u001b[0m\u001b[1;33m)\u001b[0m\u001b[1;33m\u001b[0m\u001b[0m\n\u001b[0;32m      8\u001b[0m \u001b[0mprocess_rdd_queue\u001b[0m\u001b[1;33m(\u001b[0m\u001b[0mtwitter_stream\u001b[0m\u001b[1;33m)\u001b[0m\u001b[1;33m\u001b[0m\u001b[0m\n",
      "\u001b[1;31mKeyboardInterrupt\u001b[0m: "
     ]
    }
   ],
   "source": [
    "ssc = StreamingContext(sc, 1)\n",
    "process_rdd_queue(twitter_stream)\n",
    "ssc.start()\n",
    "time.sleep(4)\n",
    "ssc.stop(stopSparkContext=False, stopGraceFully=True)\n",
    "time.sleep(100)\n",
    "ssc = StreamingContext(sc, 1)\n",
    "process_rdd_queue(twitter_stream)\n",
    "ssc.start()\n",
    "time.sleep(4)\n",
    "ssc.stop(stopSparkContext=False, stopGraceFully=True)"
   ]
  },
  {
   "cell_type": "code",
   "execution_count": 10,
   "metadata": {
    "collapsed": true
   },
   "outputs": [],
   "source": []
  },
  {
   "cell_type": "code",
   "execution_count": null,
   "metadata": {
    "collapsed": false
   },
   "outputs": [],
   "source": []
  },
  {
   "cell_type": "code",
   "execution_count": null,
   "metadata": {
    "collapsed": true
   },
   "outputs": [],
   "source": []
  },
  {
   "cell_type": "code",
   "execution_count": null,
   "metadata": {
    "collapsed": true
   },
   "outputs": [],
   "source": []
  }
 ],
 "metadata": {
  "kernelspec": {
   "display_name": "Python 2",
   "language": "python",
   "name": "python2"
  },
  "language_info": {
   "codemirror_mode": {
    "name": "ipython",
    "version": 2
   },
   "file_extension": ".py",
   "mimetype": "text/x-python",
   "name": "python",
   "nbconvert_exporter": "python",
   "pygments_lexer": "ipython2",
   "version": "2.7.11"
  }
 },
 "nbformat": 4,
 "nbformat_minor": 0
}
