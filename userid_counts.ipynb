{
 "cells": [
  {
   "cell_type": "code",
   "execution_count": 1,
   "metadata": {
    "collapsed": false
   },
   "outputs": [
    {
     "name": "stdout",
     "output_type": "stream",
     "text": [
      "/home/yolanda/spark\n"
     ]
    }
   ],
   "source": [
    "import os\n",
    "from pyspark import SparkContext\n",
    "from pyspark.sql import SQLContext\n",
    "\n",
    "# print SPARK HOME\n",
    "spark_home = os.environ.get('SPARK_HOME', None)\n",
    "print (spark_home)\n",
    "sqlContext = SQLContext(sc)"
   ]
  },
  {
   "cell_type": "code",
   "execution_count": 5,
   "metadata": {
    "collapsed": false
   },
   "outputs": [],
   "source": [
    "rdd_txt = sc.textFile(\"/home/yolanda/spark/AOL-user-ct-collection/user-ct-test-collection-*.txt\")\n",
    "\n"
   ]
  },
  {
   "cell_type": "code",
   "execution_count": 6,
   "metadata": {
    "collapsed": false
   },
   "outputs": [
    {
     "data": {
      "text/plain": [
       "36389577"
      ]
     },
     "execution_count": 6,
     "metadata": {},
     "output_type": "execute_result"
    }
   ],
   "source": [
    "#Parallel (2 m)\n",
    "rdd_txt.count()"
   ]
  },
  {
   "cell_type": "code",
   "execution_count": 7,
   "metadata": {
    "collapsed": false
   },
   "outputs": [
    {
     "data": {
      "text/plain": [
       "[u'AnonID\\tQuery\\tQueryTime\\tItemRank\\tClickURL',\n",
       " u'724\\tcarbol tunnel\\t2006-03-01 01:01:21\\t\\t',\n",
       " u'724\\thow to install a glue down floor\\t2006-03-01 07:13:45\\t2\\thttp://doityourself.com',\n",
       " u'724\\thow to install a glue down floor\\t2006-03-01 07:13:45\\t8\\thttp://www.homerenovationguide.com',\n",
       " u'724\\thow to install a glue down floor\\t2006-03-01 07:13:45\\t9\\thttp://www.hardwoodinstaller.com']"
      ]
     },
     "execution_count": 7,
     "metadata": {},
     "output_type": "execute_result"
    }
   ],
   "source": [
    "rdd_txt.take(5)"
   ]
  },
  {
   "cell_type": "code",
   "execution_count": 8,
   "metadata": {
    "collapsed": false
   },
   "outputs": [
    {
     "data": {
      "text/plain": [
       "u'AnonID\\tQuery\\tQueryTime\\tItemRank\\tClickURL'"
      ]
     },
     "execution_count": 8,
     "metadata": {},
     "output_type": "execute_result"
    }
   ],
   "source": [
    "header = rdd_txt.first()\n",
    "header"
   ]
  },
  {
   "cell_type": "code",
   "execution_count": 9,
   "metadata": {
    "collapsed": true
   },
   "outputs": [],
   "source": [
    "rdd_txt = rdd_txt.filter(lambda l: l.startswith(\"AnonID\") == False)"
   ]
  },
  {
   "cell_type": "code",
   "execution_count": 10,
   "metadata": {
    "collapsed": false
   },
   "outputs": [
    {
     "data": {
      "text/plain": [
       "36389567"
      ]
     },
     "execution_count": 10,
     "metadata": {},
     "output_type": "execute_result"
    }
   ],
   "source": [
    "#Paralel (2m)\n",
    "rdd_txt.count()"
   ]
  },
  {
   "cell_type": "code",
   "execution_count": 10,
   "metadata": {
    "collapsed": false
   },
   "outputs": [
    {
     "data": {
      "text/plain": [
       "657427"
      ]
     },
     "execution_count": 10,
     "metadata": {},
     "output_type": "execute_result"
    }
   ],
   "source": [
    "rdd_txt.map(lambda l: l.split(\"\\t\")[0]).distinct().count()"
   ]
  },
  {
   "cell_type": "code",
   "execution_count": 15,
   "metadata": {
    "collapsed": false
   },
   "outputs": [
    {
     "data": {
      "text/plain": [
       "657427"
      ]
     },
     "execution_count": 15,
     "metadata": {},
     "output_type": "execute_result"
    }
   ],
   "source": [
    "rdd_txt.groupBy(lambda l: l.split(\"\\t\")[0]).count()"
   ]
  },
  {
   "cell_type": "code",
   "execution_count": 19,
   "metadata": {
    "collapsed": false
   },
   "outputs": [
    {
     "data": {
      "text/plain": [
       "3659"
      ]
     },
     "execution_count": 19,
     "metadata": {},
     "output_type": "execute_result"
    }
   ],
   "source": [
    "rdd_txt.filter(lambda l: \"australia\" in l.lower()).map(lambda l: l.split(\"\\t\")[0]).distinct().count()"
   ]
  },
  {
   "cell_type": "code",
   "execution_count": 20,
   "metadata": {
    "collapsed": true
   },
   "outputs": [],
   "source": [
    "df = rdd_txt.map(lambda l: l.split(\"\\t\"))"
   ]
  },
  {
   "cell_type": "code",
   "execution_count": 21,
   "metadata": {
    "collapsed": false
   },
   "outputs": [
    {
     "data": {
      "text/plain": [
       "1"
      ]
     },
     "execution_count": 21,
     "metadata": {},
     "output_type": "execute_result"
    }
   ],
   "source": [
    "from datetime import datetime\n",
    "\n",
    "def raise_err(r):\n",
    "    try:\n",
    "        _ = int(r[0])\n",
    "        _ = datetime.strptime(r[2], \"%Y-%m-%d %H:%M:%S\")\n",
    "        return False\n",
    "    except:\n",
    "        return True\n",
    "\n",
    "err = df.filter(lambda r: raise_err(r))\n",
    "err.count()"
   ]
  },
  {
   "cell_type": "code",
   "execution_count": 22,
   "metadata": {
    "collapsed": false
   },
   "outputs": [
    {
     "data": {
      "text/plain": [
       "[[u'\\x19403684',\n",
       "  u'match.com',\n",
       "  u'2006-03-31 06:55:53',\n",
       "  u'2',\n",
       "  u'http://www.match.com']]"
      ]
     },
     "execution_count": 22,
     "metadata": {},
     "output_type": "execute_result"
    }
   ],
   "source": [
    "err.take(5)"
   ]
  },
  {
   "cell_type": "code",
   "execution_count": 23,
   "metadata": {
    "collapsed": true
   },
   "outputs": [],
   "source": [
    "df = df.filter(lambda r: raise_err(r) == False)"
   ]
  },
  {
   "cell_type": "code",
   "execution_count": 24,
   "metadata": {
    "collapsed": true
   },
   "outputs": [],
   "source": [
    "df = df.map(lambda r: (int(r[0]), r[1], datetime.strptime(r[2], \"%Y-%m-%d %H:%M:%S\")))"
   ]
  },
  {
   "cell_type": "code",
   "execution_count": 25,
   "metadata": {
    "collapsed": false
   },
   "outputs": [
    {
     "data": {
      "text/plain": [
       "(997, u'carreermanagement.com', datetime.datetime(2006, 3, 1, 10, 54, 58))"
      ]
     },
     "execution_count": 25,
     "metadata": {},
     "output_type": "execute_result"
    }
   ],
   "source": [
    "df.first()"
   ]
  },
  {
   "cell_type": "code",
   "execution_count": 26,
   "metadata": {
    "collapsed": true
   },
   "outputs": [],
   "source": [
    "from pyspark.sql.types import *\n",
    "schema = StructType([\n",
    "                        StructField(\"id\", IntegerType(), True),\n",
    "                        StructField(\"query\", StringType(), True),\n",
    "                        StructField(\"time\", TimestampType(), True)\n",
    "                    ])\n",
    "\n",
    "df = sqlContext.createDataFrame(df, schema)\n",
    "df.registerTempTable(\"aol\")"
   ]
  },
  {
   "cell_type": "code",
   "execution_count": 27,
   "metadata": {
    "collapsed": false
   },
   "outputs": [
    {
     "name": "stdout",
     "output_type": "stream",
     "text": [
      "+------+--------------------+--------------------+\n",
      "|    id|               query|                time|\n",
      "+------+--------------------+--------------------+\n",
      "|711391|can not sleep wit...|2006-03-01 01:24:...|\n",
      "|711391|cannot sleep with...|2006-03-01 01:24:...|\n",
      "|711391|cannot sleep with...|2006-03-01 01:24:...|\n",
      "|711391|cannot sleep with...|2006-03-01 01:33:...|\n",
      "|711391|  jackie zeaman nude|2006-03-01 15:26:...|\n",
      "|711391|   jackie zeman nude|2006-03-01 15:26:...|\n",
      "|711391|      strange cosmos|2006-03-01 16:07:...|\n",
      "|711391|mansfield first a...|2006-03-01 16:09:...|\n",
      "|711391|mansfield first a...|2006-03-01 16:09:...|\n",
      "|711391|reverend harry myers|2006-03-01 16:10:...|\n",
      "|711391|reverend harry myers|2006-03-01 16:10:...|\n",
      "|711391|   national enquirer|2006-03-01 17:13:...|\n",
      "|711391|how to kill mocki...|2006-03-01 17:18:...|\n",
      "|711391|how to kill mocki...|2006-03-01 17:18:...|\n",
      "|711391|how to kill annoy...|2006-03-01 17:18:...|\n",
      "|711391|how to kill annoy...|2006-03-01 17:19:...|\n",
      "|711391|how to rid your y...|2006-03-01 17:23:...|\n",
      "|711391|how to rid your y...|2006-03-01 17:23:...|\n",
      "|711391|how to rid your y...|2006-03-01 17:24:...|\n",
      "|711391|how do i get mock...|2006-03-01 17:27:...|\n",
      "+------+--------------------+--------------------+\n",
      "only showing top 20 rows\n",
      "\n"
     ]
    }
   ],
   "source": [
    "sqlContext.sql(\"select * from aol where id = 711391 order by time\").show()"
   ]
  },
  {
   "cell_type": "code",
   "execution_count": 28,
   "metadata": {
    "collapsed": false
   },
   "outputs": [
    {
     "data": {
      "text/plain": [
       "[Row(min(time)=datetime.datetime(2006, 3, 1, 0, 1, 3))]"
      ]
     },
     "execution_count": 28,
     "metadata": {},
     "output_type": "execute_result"
    }
   ],
   "source": [
    "df.agg({\"time\": \"min\"}).collect()"
   ]
  },
  {
   "cell_type": "code",
   "execution_count": 29,
   "metadata": {
    "collapsed": true
   },
   "outputs": [],
   "source": [
    "user_71845 = df[df.id == 71845]\n",
    "\n",
    "pd_71845 = user_71845.toPandas()"
   ]
  },
  {
   "cell_type": "code",
   "execution_count": 30,
   "metadata": {
    "collapsed": false
   },
   "outputs": [
    {
     "data": {
      "text/html": [
       "<div>\n",
       "<table border=\"1\" class=\"dataframe\">\n",
       "  <thead>\n",
       "    <tr style=\"text-align: right;\">\n",
       "      <th></th>\n",
       "      <th>id</th>\n",
       "      <th>query</th>\n",
       "      <th>time</th>\n",
       "    </tr>\n",
       "  </thead>\n",
       "  <tbody>\n",
       "    <tr>\n",
       "      <th>0</th>\n",
       "      <td>71845</td>\n",
       "      <td>-</td>\n",
       "      <td>2006-04-04 06:12:36</td>\n",
       "    </tr>\n",
       "    <tr>\n",
       "      <th>1</th>\n",
       "      <td>71845</td>\n",
       "      <td>-</td>\n",
       "      <td>2006-04-04 06:57:56</td>\n",
       "    </tr>\n",
       "    <tr>\n",
       "      <th>2</th>\n",
       "      <td>71845</td>\n",
       "      <td>-</td>\n",
       "      <td>2006-04-04 07:11:52</td>\n",
       "    </tr>\n",
       "    <tr>\n",
       "      <th>3</th>\n",
       "      <td>71845</td>\n",
       "      <td>-</td>\n",
       "      <td>2006-04-04 07:12:02</td>\n",
       "    </tr>\n",
       "    <tr>\n",
       "      <th>4</th>\n",
       "      <td>71845</td>\n",
       "      <td>-</td>\n",
       "      <td>2006-04-04 07:14:05</td>\n",
       "    </tr>\n",
       "  </tbody>\n",
       "</table>\n",
       "</div>"
      ],
      "text/plain": [
       "      id query                time\n",
       "0  71845     - 2006-04-04 06:12:36\n",
       "1  71845     - 2006-04-04 06:57:56\n",
       "2  71845     - 2006-04-04 07:11:52\n",
       "3  71845     - 2006-04-04 07:12:02\n",
       "4  71845     - 2006-04-04 07:14:05"
      ]
     },
     "execution_count": 30,
     "metadata": {},
     "output_type": "execute_result"
    }
   ],
   "source": [
    "pd_71845.head()"
   ]
  },
  {
   "cell_type": "code",
   "execution_count": 31,
   "metadata": {
    "collapsed": true
   },
   "outputs": [],
   "source": [
    "sql_by_dates = \"\"\"\n",
    "               select cast(time as Date) as dt\n",
    "                     ,count(*) as cnt\n",
    "               from aol\n",
    "               group by cast(time as Date)\n",
    "               order by dt\n",
    "               \"\"\"\n",
    "\n",
    "by_dates = sqlContext.sql(sql_by_dates)\n",
    "\n"
   ]
  },
  {
   "cell_type": "code",
   "execution_count": 53,
   "metadata": {
    "collapsed": false
   },
   "outputs": [
    {
     "data": {
      "text/html": [
       "<div>\n",
       "<table border=\"1\" class=\"dataframe\">\n",
       "  <thead>\n",
       "    <tr style=\"text-align: right;\">\n",
       "      <th></th>\n",
       "      <th>dt</th>\n",
       "      <th>cnt</th>\n",
       "    </tr>\n",
       "  </thead>\n",
       "  <tbody>\n",
       "    <tr>\n",
       "      <th>0</th>\n",
       "      <td>2006-03-01</td>\n",
       "      <td>454226</td>\n",
       "    </tr>\n",
       "    <tr>\n",
       "      <th>1</th>\n",
       "      <td>2006-03-02</td>\n",
       "      <td>474107</td>\n",
       "    </tr>\n",
       "    <tr>\n",
       "      <th>2</th>\n",
       "      <td>2006-03-03</td>\n",
       "      <td>428053</td>\n",
       "    </tr>\n",
       "    <tr>\n",
       "      <th>3</th>\n",
       "      <td>2006-03-04</td>\n",
       "      <td>467858</td>\n",
       "    </tr>\n",
       "    <tr>\n",
       "      <th>4</th>\n",
       "      <td>2006-03-05</td>\n",
       "      <td>515973</td>\n",
       "    </tr>\n",
       "  </tbody>\n",
       "</table>\n",
       "</div>"
      ],
      "text/plain": [
       "           dt     cnt\n",
       "0  2006-03-01  454226\n",
       "1  2006-03-02  474107\n",
       "2  2006-03-03  428053\n",
       "3  2006-03-04  467858\n",
       "4  2006-03-05  515973"
      ]
     },
     "execution_count": 53,
     "metadata": {},
     "output_type": "execute_result"
    }
   ],
   "source": [
    "pd_by_dates = by_dates.toPandas()\n",
    "pd_by_dates.head()"
   ]
  },
  {
   "cell_type": "code",
   "execution_count": 50,
   "metadata": {
    "collapsed": false
   },
   "outputs": [
    {
     "data": {
      "text/html": [
       "\n",
       "\n",
       "    <script type=\"text/javascript\">\n",
       "      \n",
       "      (function(global) {\n",
       "        function now() {\n",
       "          return new Date();\n",
       "        }\n",
       "      \n",
       "        if (typeof (window._bokeh_onload_callbacks) === \"undefined\") {\n",
       "          window._bokeh_onload_callbacks = [];\n",
       "        }\n",
       "      \n",
       "        function run_callbacks() {\n",
       "          window._bokeh_onload_callbacks.forEach(function(callback) { callback() });\n",
       "          delete window._bokeh_onload_callbacks\n",
       "          console.info(\"Bokeh: all callbacks have finished\");\n",
       "        }\n",
       "      \n",
       "        function load_libs(js_urls, callback) {\n",
       "          window._bokeh_onload_callbacks.push(callback);\n",
       "          if (window._bokeh_is_loading > 0) {\n",
       "            console.log(\"Bokeh: BokehJS is being loaded, scheduling callback at\", now());\n",
       "            return null;\n",
       "          }\n",
       "          if (js_urls == null || js_urls.length === 0) {\n",
       "            run_callbacks();\n",
       "            return null;\n",
       "          }\n",
       "          console.log(\"Bokeh: BokehJS not loaded, scheduling load and callback at\", now());\n",
       "          window._bokeh_is_loading = js_urls.length;\n",
       "          for (var i = 0; i < js_urls.length; i++) {\n",
       "            var url = js_urls[i];\n",
       "            var s = document.createElement('script');\n",
       "            s.src = url;\n",
       "            s.async = false;\n",
       "            s.onreadystatechange = s.onload = function() {\n",
       "              window._bokeh_is_loading--;\n",
       "              if (window._bokeh_is_loading === 0) {\n",
       "                console.log(\"Bokeh: all BokehJS libraries loaded\");\n",
       "                run_callbacks()\n",
       "              }\n",
       "            };\n",
       "            s.onerror = function() {\n",
       "              console.warn(\"failed to load library \" + url);\n",
       "            };\n",
       "            console.log(\"Bokeh: injecting script tag for BokehJS library: \", url);\n",
       "            document.getElementsByTagName(\"head\")[0].appendChild(s);\n",
       "          }\n",
       "        };var js_urls = ['https://cdn.pydata.org/bokeh/release/bokeh-0.11.0.min.js', 'https://cdn.pydata.org/bokeh/release/bokeh-widgets-0.11.0.min.js', 'https://cdn.pydata.org/bokeh/release/bokeh-compiler-0.11.0.min.js'];\n",
       "      \n",
       "        var inline_js = [\n",
       "          function(Bokeh) {\n",
       "            Bokeh.set_log_level(\"info\");\n",
       "          },\n",
       "          function(Bokeh) {\n",
       "            console.log(\"Bokeh: injecting CSS: https://cdn.pydata.org/bokeh/release/bokeh-0.11.0.min.css\");\n",
       "            Bokeh.embed.inject_css(\"https://cdn.pydata.org/bokeh/release/bokeh-0.11.0.min.css\");\n",
       "            console.log(\"Bokeh: injecting CSS: https://cdn.pydata.org/bokeh/release/bokeh-widgets-0.11.0.min.css\");\n",
       "            Bokeh.embed.inject_css(\"https://cdn.pydata.org/bokeh/release/bokeh-widgets-0.11.0.min.css\");\n",
       "          }\n",
       "        ];\n",
       "      \n",
       "        function run_inline_js() {\n",
       "          for (var i = 0; i < inline_js.length; i++) {\n",
       "            inline_js[i](window.Bokeh);\n",
       "          }\n",
       "        }\n",
       "      \n",
       "        if (window._bokeh_is_loading === 0) {\n",
       "          console.log(\"Bokeh: BokehJS loaded, going straight to plotting\");\n",
       "          run_inline_js();\n",
       "        } else {\n",
       "          load_libs(js_urls, function() {\n",
       "            console.log(\"Bokeh: BokehJS plotting callback run at\", now());\n",
       "            run_inline_js();\n",
       "          });\n",
       "        }\n",
       "      }(this));\n",
       "    </script>\n",
       "    <div>\n",
       "        <a href=\"http://bokeh.pydata.org\" target=\"_blank\" class=\"bk-logo bk-logo-small bk-logo-notebook\"></a>\n",
       "        <span>BokehJS successfully loaded.</span>\n",
       "    </div>"
      ]
     },
     "metadata": {},
     "output_type": "display_data"
    }
   ],
   "source": [
    "from bokeh.charts import TimeSeries, Bar, output_notebook, show\n",
    "from bokeh.models import PrintfTickFormatter\n",
    "output_notebook()"
   ]
  },
  {
   "cell_type": "code",
   "execution_count": 54,
   "metadata": {
    "collapsed": false
   },
   "outputs": [
    {
     "data": {
      "text/html": [
       "<div>\n",
       "<table border=\"1\" class=\"dataframe\">\n",
       "  <thead>\n",
       "    <tr style=\"text-align: right;\">\n",
       "      <th></th>\n",
       "      <th>cnt</th>\n",
       "    </tr>\n",
       "    <tr>\n",
       "      <th>dt</th>\n",
       "      <th></th>\n",
       "    </tr>\n",
       "  </thead>\n",
       "  <tbody>\n",
       "    <tr>\n",
       "      <th>2006-03-01</th>\n",
       "      <td>454226</td>\n",
       "    </tr>\n",
       "    <tr>\n",
       "      <th>2006-03-02</th>\n",
       "      <td>474107</td>\n",
       "    </tr>\n",
       "    <tr>\n",
       "      <th>2006-03-03</th>\n",
       "      <td>428053</td>\n",
       "    </tr>\n",
       "    <tr>\n",
       "      <th>2006-03-04</th>\n",
       "      <td>467858</td>\n",
       "    </tr>\n",
       "    <tr>\n",
       "      <th>2006-03-05</th>\n",
       "      <td>515973</td>\n",
       "    </tr>\n",
       "    <tr>\n",
       "      <th>2006-03-06</th>\n",
       "      <td>476371</td>\n",
       "    </tr>\n",
       "    <tr>\n",
       "      <th>2006-03-07</th>\n",
       "      <td>470863</td>\n",
       "    </tr>\n",
       "    <tr>\n",
       "      <th>2006-03-08</th>\n",
       "      <td>456205</td>\n",
       "    </tr>\n",
       "    <tr>\n",
       "      <th>2006-03-09</th>\n",
       "      <td>455997</td>\n",
       "    </tr>\n",
       "    <tr>\n",
       "      <th>2006-03-10</th>\n",
       "      <td>421557</td>\n",
       "    </tr>\n",
       "    <tr>\n",
       "      <th>2006-03-11</th>\n",
       "      <td>446699</td>\n",
       "    </tr>\n",
       "    <tr>\n",
       "      <th>2006-03-12</th>\n",
       "      <td>502261</td>\n",
       "    </tr>\n",
       "    <tr>\n",
       "      <th>2006-03-13</th>\n",
       "      <td>476551</td>\n",
       "    </tr>\n",
       "    <tr>\n",
       "      <th>2006-03-14</th>\n",
       "      <td>467592</td>\n",
       "    </tr>\n",
       "    <tr>\n",
       "      <th>2006-03-15</th>\n",
       "      <td>464170</td>\n",
       "    </tr>\n",
       "    <tr>\n",
       "      <th>2006-03-16</th>\n",
       "      <td>445552</td>\n",
       "    </tr>\n",
       "    <tr>\n",
       "      <th>2006-03-17</th>\n",
       "      <td>414549</td>\n",
       "    </tr>\n",
       "    <tr>\n",
       "      <th>2006-03-18</th>\n",
       "      <td>449462</td>\n",
       "    </tr>\n",
       "    <tr>\n",
       "      <th>2006-03-19</th>\n",
       "      <td>507810</td>\n",
       "    </tr>\n",
       "    <tr>\n",
       "      <th>2006-03-20</th>\n",
       "      <td>474882</td>\n",
       "    </tr>\n",
       "    <tr>\n",
       "      <th>2006-03-21</th>\n",
       "      <td>464915</td>\n",
       "    </tr>\n",
       "    <tr>\n",
       "      <th>2006-03-22</th>\n",
       "      <td>463175</td>\n",
       "    </tr>\n",
       "    <tr>\n",
       "      <th>2006-03-23</th>\n",
       "      <td>448475</td>\n",
       "    </tr>\n",
       "    <tr>\n",
       "      <th>2006-03-24</th>\n",
       "      <td>415906</td>\n",
       "    </tr>\n",
       "    <tr>\n",
       "      <th>2006-03-25</th>\n",
       "      <td>449595</td>\n",
       "    </tr>\n",
       "    <tr>\n",
       "      <th>2006-03-26</th>\n",
       "      <td>496550</td>\n",
       "    </tr>\n",
       "    <tr>\n",
       "      <th>2006-03-27</th>\n",
       "      <td>459611</td>\n",
       "    </tr>\n",
       "    <tr>\n",
       "      <th>2006-03-28</th>\n",
       "      <td>462682</td>\n",
       "    </tr>\n",
       "    <tr>\n",
       "      <th>2006-03-29</th>\n",
       "      <td>443084</td>\n",
       "    </tr>\n",
       "    <tr>\n",
       "      <th>2006-03-30</th>\n",
       "      <td>418926</td>\n",
       "    </tr>\n",
       "    <tr>\n",
       "      <th>...</th>\n",
       "      <td>...</td>\n",
       "    </tr>\n",
       "    <tr>\n",
       "      <th>2006-05-02</th>\n",
       "      <td>326934</td>\n",
       "    </tr>\n",
       "    <tr>\n",
       "      <th>2006-05-03</th>\n",
       "      <td>376976</td>\n",
       "    </tr>\n",
       "    <tr>\n",
       "      <th>2006-05-04</th>\n",
       "      <td>402279</td>\n",
       "    </tr>\n",
       "    <tr>\n",
       "      <th>2006-05-05</th>\n",
       "      <td>371252</td>\n",
       "    </tr>\n",
       "    <tr>\n",
       "      <th>2006-05-06</th>\n",
       "      <td>387758</td>\n",
       "    </tr>\n",
       "    <tr>\n",
       "      <th>2006-05-07</th>\n",
       "      <td>444050</td>\n",
       "    </tr>\n",
       "    <tr>\n",
       "      <th>2006-05-08</th>\n",
       "      <td>437745</td>\n",
       "    </tr>\n",
       "    <tr>\n",
       "      <th>2006-05-09</th>\n",
       "      <td>427462</td>\n",
       "    </tr>\n",
       "    <tr>\n",
       "      <th>2006-05-10</th>\n",
       "      <td>424377</td>\n",
       "    </tr>\n",
       "    <tr>\n",
       "      <th>2006-05-11</th>\n",
       "      <td>425270</td>\n",
       "    </tr>\n",
       "    <tr>\n",
       "      <th>2006-05-12</th>\n",
       "      <td>389550</td>\n",
       "    </tr>\n",
       "    <tr>\n",
       "      <th>2006-05-13</th>\n",
       "      <td>394545</td>\n",
       "    </tr>\n",
       "    <tr>\n",
       "      <th>2006-05-14</th>\n",
       "      <td>419483</td>\n",
       "    </tr>\n",
       "    <tr>\n",
       "      <th>2006-05-15</th>\n",
       "      <td>445306</td>\n",
       "    </tr>\n",
       "    <tr>\n",
       "      <th>2006-05-16</th>\n",
       "      <td>362028</td>\n",
       "    </tr>\n",
       "    <tr>\n",
       "      <th>2006-05-17</th>\n",
       "      <td>3349</td>\n",
       "    </tr>\n",
       "    <tr>\n",
       "      <th>2006-05-18</th>\n",
       "      <td>420486</td>\n",
       "    </tr>\n",
       "    <tr>\n",
       "      <th>2006-05-19</th>\n",
       "      <td>397767</td>\n",
       "    </tr>\n",
       "    <tr>\n",
       "      <th>2006-05-20</th>\n",
       "      <td>402975</td>\n",
       "    </tr>\n",
       "    <tr>\n",
       "      <th>2006-05-21</th>\n",
       "      <td>455153</td>\n",
       "    </tr>\n",
       "    <tr>\n",
       "      <th>2006-05-22</th>\n",
       "      <td>459142</td>\n",
       "    </tr>\n",
       "    <tr>\n",
       "      <th>2006-05-23</th>\n",
       "      <td>450667</td>\n",
       "    </tr>\n",
       "    <tr>\n",
       "      <th>2006-05-24</th>\n",
       "      <td>413170</td>\n",
       "    </tr>\n",
       "    <tr>\n",
       "      <th>2006-05-25</th>\n",
       "      <td>399451</td>\n",
       "    </tr>\n",
       "    <tr>\n",
       "      <th>2006-05-26</th>\n",
       "      <td>378689</td>\n",
       "    </tr>\n",
       "    <tr>\n",
       "      <th>2006-05-27</th>\n",
       "      <td>371069</td>\n",
       "    </tr>\n",
       "    <tr>\n",
       "      <th>2006-05-28</th>\n",
       "      <td>353203</td>\n",
       "    </tr>\n",
       "    <tr>\n",
       "      <th>2006-05-29</th>\n",
       "      <td>435089</td>\n",
       "    </tr>\n",
       "    <tr>\n",
       "      <th>2006-05-30</th>\n",
       "      <td>436799</td>\n",
       "    </tr>\n",
       "    <tr>\n",
       "      <th>2006-05-31</th>\n",
       "      <td>461281</td>\n",
       "    </tr>\n",
       "  </tbody>\n",
       "</table>\n",
       "<p>92 rows × 1 columns</p>\n",
       "</div>"
      ],
      "text/plain": [
       "               cnt\n",
       "dt                \n",
       "2006-03-01  454226\n",
       "2006-03-02  474107\n",
       "2006-03-03  428053\n",
       "2006-03-04  467858\n",
       "2006-03-05  515973\n",
       "2006-03-06  476371\n",
       "2006-03-07  470863\n",
       "2006-03-08  456205\n",
       "2006-03-09  455997\n",
       "2006-03-10  421557\n",
       "2006-03-11  446699\n",
       "2006-03-12  502261\n",
       "2006-03-13  476551\n",
       "2006-03-14  467592\n",
       "2006-03-15  464170\n",
       "2006-03-16  445552\n",
       "2006-03-17  414549\n",
       "2006-03-18  449462\n",
       "2006-03-19  507810\n",
       "2006-03-20  474882\n",
       "2006-03-21  464915\n",
       "2006-03-22  463175\n",
       "2006-03-23  448475\n",
       "2006-03-24  415906\n",
       "2006-03-25  449595\n",
       "2006-03-26  496550\n",
       "2006-03-27  459611\n",
       "2006-03-28  462682\n",
       "2006-03-29  443084\n",
       "2006-03-30  418926\n",
       "...            ...\n",
       "2006-05-02  326934\n",
       "2006-05-03  376976\n",
       "2006-05-04  402279\n",
       "2006-05-05  371252\n",
       "2006-05-06  387758\n",
       "2006-05-07  444050\n",
       "2006-05-08  437745\n",
       "2006-05-09  427462\n",
       "2006-05-10  424377\n",
       "2006-05-11  425270\n",
       "2006-05-12  389550\n",
       "2006-05-13  394545\n",
       "2006-05-14  419483\n",
       "2006-05-15  445306\n",
       "2006-05-16  362028\n",
       "2006-05-17    3349\n",
       "2006-05-18  420486\n",
       "2006-05-19  397767\n",
       "2006-05-20  402975\n",
       "2006-05-21  455153\n",
       "2006-05-22  459142\n",
       "2006-05-23  450667\n",
       "2006-05-24  413170\n",
       "2006-05-25  399451\n",
       "2006-05-26  378689\n",
       "2006-05-27  371069\n",
       "2006-05-28  353203\n",
       "2006-05-29  435089\n",
       "2006-05-30  436799\n",
       "2006-05-31  461281\n",
       "\n",
       "[92 rows x 1 columns]"
      ]
     },
     "execution_count": 54,
     "metadata": {},
     "output_type": "execute_result"
    }
   ],
   "source": [
    "pd_by_dates.set_index(\"dt\")\n",
    "\n"
   ]
  },
  {
   "cell_type": "code",
   "execution_count": 56,
   "metadata": {
    "collapsed": false
   },
   "outputs": [],
   "source": [
    "data = dict(count=pd_by_dates[\"cnt\"], Date=pd_by_dates.index)\n"
   ]
  },
  {
   "cell_type": "code",
   "execution_count": null,
   "metadata": {
    "collapsed": true
   },
   "outputs": [],
   "source": []
  }
 ],
 "metadata": {
  "kernelspec": {
   "display_name": "Python 2",
   "language": "python",
   "name": "python2"
  },
  "language_info": {
   "codemirror_mode": {
    "name": "ipython",
    "version": 2
   },
   "file_extension": ".py",
   "mimetype": "text/x-python",
   "name": "python",
   "nbconvert_exporter": "python",
   "pygments_lexer": "ipython2",
   "version": "2.7.11"
  }
 },
 "nbformat": 4,
 "nbformat_minor": 0
}
